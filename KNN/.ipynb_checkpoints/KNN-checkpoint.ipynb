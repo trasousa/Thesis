{
 "cells": [
  {
   "cell_type": "code",
   "execution_count": 3,
   "metadata": {},
   "outputs": [],
   "source": [
    "import numpy as np\n",
    "from math import sqrt \n",
    "import pandas as pd\n",
    "import random \n",
    "import matplotlib.pyplot as plt\n",
    "import warnings \n",
    "from matplotlib import style\n",
    "from collections import Counter \n",
    "import operator\n",
    "from scipy import spatial\n",
    "from scipy.sparse import csr_matrix\n",
    "from sklearn.neighbors import NearestNeighbors\n",
    "from fuzzywuzzy import process\n",
    "from sklearn.preprocessing import StandardScaler"
   ]
  },
  {
   "cell_type": "markdown",
   "metadata": {},
   "source": [
    "# KNN algorithm "
   ]
  },
  {
   "cell_type": "code",
   "execution_count": 4,
   "metadata": {},
   "outputs": [],
   "source": [
    "def knn(data,predict,k):\n",
    "    if len(data)> k:\n",
    "        warnings.warn('K is set to a valeu less than total voting groups!')\n",
    "    distances = []\n",
    "    for group in data: \n",
    "        for features in data[group]:\n",
    "            #euclidian distance sqrt((features[0]-predict[0])**2 + (features[1] - predict[1])**2)\n",
    "            euclidian_distance = np.linalg.norm(np.array(features)-np.array(predict))\n",
    "            distances.append([euclidian_distance,group])\n",
    "    \n",
    "    votes = [i[1] for i in sorted(distances)[:k]]\n",
    "    #print (Counter(votes).most_common(1))\n",
    "    vote_result = Counter(votes).most_common(1)[0][0]\n",
    "    \n",
    "    confidence = Counter(votes).most_common(1)[0][1]/ k\n",
    "    \n",
    "    return vote_result,confidence\n"
   ]
  },
  {
   "cell_type": "markdown",
   "metadata": {},
   "source": [
    "# First Example"
   ]
  },
  {
   "cell_type": "code",
   "execution_count": 5,
   "metadata": {},
   "outputs": [],
   "source": [
    "style.use('fivethirtyeight')"
   ]
  },
  {
   "cell_type": "code",
   "execution_count": 6,
   "metadata": {},
   "outputs": [],
   "source": [
    "dataset = {'k': [[1,2],[2,3],[3,1]], 'r':[[6,5],[7,7],[8,6]]}\n",
    "new_point = [5,7]"
   ]
  },
  {
   "cell_type": "code",
   "execution_count": 7,
   "metadata": {},
   "outputs": [
    {
     "data": {
      "image/png": "[encoded data removed]",
      "text/plain": [
       "<Figure size 432x288 with 1 Axes>"
      ]
     },
     "metadata": {},
     "output_type": "display_data"
    }
   ],
   "source": [
    "for i in dataset:\n",
    "    for j in dataset[i]:\n",
    "        plt.scatter(j[0],j[1], s=100,color=i) \n",
    "plt.scatter(new_point[0],new_point[1], s=100, color = \"blue\")\n",
    "plt.show()"
   ]
  },
  {
   "cell_type": "code",
   "execution_count": 8,
   "metadata": {},
   "outputs": [
    {
     "name": "stdout",
     "output_type": "stream",
     "text": [
      "('r', 1.0)\n"
     ]
    },
    {
     "data": {
      "image/png": "[encoded data removed]",
      "text/plain": [
       "<Figure size 432x288 with 1 Axes>"
      ]
     },
     "metadata": {},
     "output_type": "display_data"
    }
   ],
   "source": [
    "result = knn(dataset,new_point, k=3)\n",
    "print(result)\n",
    "\n",
    "for i in dataset:\n",
    "    for j in dataset[i]:\n",
    "        plt.scatter(j[0],j[1], s=100,color=i) \n",
    "plt.scatter(new_point[0],new_point[1], s=100, color = result[0])\n",
    "plt.show()"
   ]
  },
  {
   "cell_type": "markdown",
   "metadata": {},
   "source": [
    "# Cancer DataSet"
   ]
  },
  {
   "cell_type": "code",
   "execution_count": 9,
   "metadata": {},
   "outputs": [],
   "source": [
    "accuracies = []"
   ]
  },
  {
   "cell_type": "code",
   "execution_count": 10,
   "metadata": {},
   "outputs": [
    {
     "name": "stdout",
     "output_type": "stream",
     "text": [
      "0.9663082437275985\n"
     ]
    }
   ],
   "source": [
    "for i in range(5):\n",
    "    df = pd.read_csv(\"breast-cancer-wisconsin.data.txt\")\n",
    "    df.replace('?', -99999, inplace = True)\n",
    "    df.drop(['id'],1,inplace=True)\n",
    "\n",
    "\n",
    "    full_data = df.astype(float).values.tolist()\n",
    "    random.shuffle(full_data)\n",
    "\n",
    "\n",
    "\n",
    "    test_size = 0.4\n",
    "    train_set = {2:[],4:[]}\n",
    "    test_set = {2:[],4:[]}\n",
    "    train_data = full_data[:-int(test_size*len(full_data))]\n",
    "    test_data = full_data[-int(test_size*len(full_data)):]\n",
    "\n",
    "    for i in train_data:\n",
    "        train_set[i[-1]].append(i[:-1])\n",
    "    for i in test_data:\n",
    "        test_set[i[-1]].append(i[:-1])\n",
    "\n",
    "\n",
    "    correct = 0\n",
    "    total = 0\n",
    "\n",
    "    for group in test_set:\n",
    "        for data in test_set[group]:\n",
    "            vote,confidence = knn(train_set,data,k=5)\n",
    "            if group == vote:\n",
    "                correct += 1\n",
    "\n",
    "            total +=1\n",
    "\n",
    "    accuracies.append(correct/total)\n",
    "\n",
    "print(sum(accuracies)/len(accuracies))"
   ]
  },
  {
   "cell_type": "markdown",
   "metadata": {},
   "source": [
    "# Movies DataSet"
   ]
  },
  {
   "cell_type": "code",
   "execution_count": 15,
   "metadata": {},
   "outputs": [],
   "source": [
    "movies='KNN_movies/movies.csv'\n",
    "ratings='KNN_movies/ratings.csv'\n",
    "\n",
    "df_movies=pd.read_csv(movies, usecols=['movieId','title'], dtype={'movieId':'int32','title':'str'})\n",
    "df_ratings=pd.read_csv(ratings, usecols=['userId','movieId','rating'],dtype={'userId':'int32','movieId':'int32','rating':'float32'})"
   ]
  },
  {
   "cell_type": "code",
   "execution_count": 16,
   "metadata": {},
   "outputs": [],
   "source": [
    "#Spare Matrix\n",
    "#         Users\n",
    "#        [4,4,5] A\n",
    "#Movies  [3,3,4] B ==   Cos(A,B) => 0.95 \n",
    "#       [3,2,1]\n",
    "\n",
    "movies_users=df_ratings.pivot(index='movieId', columns='userId',values='rating').fillna(0)\n",
    "mat_movies_users=csr_matrix(movies_users.values)\n"
   ]
  },
  {
   "cell_type": "code",
   "execution_count": 17,
   "metadata": {},
   "outputs": [],
   "source": [
    "\n",
    "# Euclidean Distance\n",
    "# Manhattan Distance\n",
    "# Minkowski Distance \n",
    "# Cosine Similarity\n",
    "model_knn= NearestNeighbors(metric='cosine', algorithm='brute', n_neighbors=20)\n",
    "\n"
   ]
  },
  {
   "cell_type": "code",
   "execution_count": 18,
   "metadata": {},
   "outputs": [
    {
     "data": {
      "text/plain": [
       "NearestNeighbors(algorithm='brute', leaf_size=30, metric='cosine',\n",
       "                 metric_params=None, n_jobs=None, n_neighbors=20, p=2,\n",
       "                 radius=1.0)"
      ]
     },
     "execution_count": 18,
     "metadata": {},
     "output_type": "execute_result"
    }
   ],
   "source": [
    "\n",
    "\n",
    "model_knn.fit(mat_movies_users)\n",
    "\n"
   ]
  },
  {
   "cell_type": "code",
   "execution_count": 19,
   "metadata": {},
   "outputs": [
    {
     "name": "stdout",
     "output_type": "stream",
     "text": [
      "Movie Selected:  Iron Man (2008) Index:  6743\n",
      "Searching for recommendations.....\n",
      "6743                                            NaN\n",
      "7197                                  Garage (2007)\n",
      "7195                        Merry Madagascar (2009)\n",
      "7354                             A-Team, The (2010)\n",
      "6726                         Superhero Movie (2008)\n",
      "7137                         Thirst (Bakjwi) (2009)\n",
      "7026                                 Scorpio (1973)\n",
      "7571                                 Win Win (2011)\n",
      "3880                  Look Who's Talking Now (1993)\n",
      "6388    After the Wedding (Efter brylluppet) (2006)\n",
      "7601                       Idiots and Angels (2008)\n",
      "6755                Nina's Heavenly Delights (2006)\n",
      "7022                                   Earth (2007)\n",
      "7338                          Blue Valentine (2010)\n",
      "4421                         What's Up, Doc? (1972)\n",
      "6195                             Silent Hill (2006)\n",
      "5885                                   Crash (2004)\n",
      "3740                              Motel Hell (1980)\n",
      "7378           Serbian Film, A (Srpski film) (2010)\n",
      "7289                            Generation X (1996)\n",
      "Name: title, dtype: object\n"
     ]
    }
   ],
   "source": [
    "# Recommender(movie_name) => List of Movies recommended\n",
    "\n",
    "def recommender(movie_name, data,model, n_recommendations ):\n",
    "    model.fit(data)\n",
    "    idx=process.extractOne(movie_name, df_movies['title'])[2]\n",
    "    print('Movie Selected: ',df_movies['title'][idx], 'Index: ',idx)\n",
    "    print('Searching for recommendations.....')\n",
    "    distances, indices=model.kneighbors(data[idx], n_neighbors=n_recommendations)\n",
    "    for i in indices:\n",
    "        print(df_movies['title'][i].where(i!=idx))\n",
    "    \n",
    "recommender('iron man', mat_movies_users, model_knn,20)"
   ]
  },
  {
   "cell_type": "code",
   "execution_count": null,
   "metadata": {},
   "outputs": [],
   "source": []
  }
 ],
 "metadata": {
  "kernelspec": {
   "display_name": "Python 3",
   "language": "python",
   "name": "python3"
  },
  "language_info": {
   "codemirror_mode": {
    "name": "ipython",
    "version": 3
   },
   "file_extension": ".py",
   "mimetype": "text/x-python",
   "name": "python",
   "nbconvert_exporter": "python",
   "pygments_lexer": "ipython3",
   "version": "3.8.0"
  }
 },
 "nbformat": 4,
 "nbformat_minor": 4
}
