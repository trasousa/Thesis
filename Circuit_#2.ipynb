{
 "cells": [
  {
   "cell_type": "code",
   "execution_count": 1,
   "metadata": {},
   "outputs": [],
   "source": [
    "import matplotlib.pyplot as plt\n",
    "import numpy as np\n",
    "from scipy.constants import pi\n",
    "import math\n",
    "\n",
    "# importing Qiskit\n",
    "import qiskit\n",
    "from qiskit import IBMQ, Aer\n",
    "from qiskit import QuantumCircuit, ClassicalRegister, QuantumRegister, execute\n",
    "\n",
    "from qiskit.providers.aer.noise import NoiseModel\n",
    "\n",
    "# import basic plot tools\n",
    "\n",
    "from qiskit.tools.visualization import plot_histogram, plot_circuit_layout\n",
    "\n",
    "from qiskit.providers.ibmq import least_busy\n",
    "\n",
    "from qiskit.compiler import transpile\n",
    "\n",
    "import warnings\n",
    "warnings.filterwarnings('ignore')"
   ]
  },
  {
   "cell_type": "code",
   "execution_count": 2,
   "metadata": {},
   "outputs": [
    {
     "data": {
      "text/plain": [
       "<AccountProvider for IBMQ(hub='ibm-q', group='open', project='main')>"
      ]
     },
     "execution_count": 2,
     "metadata": {},
     "output_type": "execute_result"
    }
   ],
   "source": [
    "# Replace TOKEN with your string\n",
    "#IBMQ.save_account('717cf61727cdb38042395c8140ffda877eedc5a316b84196c709e29869a6620ef09f9872200dc64ec870c7e5051229c976715491941396be89791d1a0ba5a803',overwrite=True)\n",
    "\n",
    "# In subsequent sessios the Token can be loaded from disk\n",
    "IBMQ.load_account()"
   ]
  },
  {
   "cell_type": "code",
   "execution_count": 10,
   "metadata": {},
   "outputs": [],
   "source": [
    "def Loadata(qc,qr1,qr2,qr3,qload,cr):\n",
    "    qc.h(qr1[0])\n",
    "    qc.h(qr2[0])\n",
    "    qc.h(qr3[0])\n",
    "    qc.cx(qr1[0],qload[0])\n",
    "    ##qc.cx(qload[1],cr[1])\n",
    "    ##qc.cx(qload[2],cr[2])\n",
    "    ##qc.cx(qload[3],cr[3])\n",
    "    "
   ]
  },
  {
   "cell_type": "code",
   "execution_count": 11,
   "metadata": {},
   "outputs": [
    {
     "data": {
      "image/png": "[encoded data removed]",
      "text/plain": [
       "<Figure size 341.936x505.68 with 1 Axes>"
      ]
     },
     "execution_count": 11,
     "metadata": {},
     "output_type": "execute_result"
    }
   ],
   "source": [
    "qr1 = QuantumRegister(1,'b')\n",
    "qr2 = QuantumRegister(1,'y')\n",
    "qr3 = QuantumRegister(1,'a')\n",
    "qload = QuantumRegister(4, 'qload')\n",
    "cr = ClassicalRegister(4)\n",
    "cheque = QuantumCircuit(qr1,qr2,qr3,qload,cr)\n",
    "Loadata(cheque,qr1,qr2,qr3,qload,cr)\n",
    "cheque.draw(output='mpl')"
   ]
  },
  {
   "cell_type": "code",
   "execution_count": null,
   "metadata": {},
   "outputs": [],
   "source": []
  }
 ],
 "metadata": {
  "kernelspec": {
   "display_name": "Python 3",
   "language": "python",
   "name": "python3"
  },
  "language_info": {
   "codemirror_mode": {
    "name": "ipython",
    "version": 3
   },
   "file_extension": ".py",
   "mimetype": "text/x-python",
   "name": "python",
   "nbconvert_exporter": "python",
   "pygments_lexer": "ipython3",
   "version": "3.8.0"
  }
 },
 "nbformat": 4,
 "nbformat_minor": 4
}
